{
  "nbformat": 4,
  "nbformat_minor": 0,
  "metadata": {
    "colab": {
      "provenance": [],
      "private_outputs": true,
      "include_colab_link": true
    },
    "kernelspec": {
      "name": "python3",
      "display_name": "Python 3"
    },
    "language_info": {
      "name": "python"
    },
    "gpuClass": "standard"
  },
  "cells": [
    {
      "cell_type": "markdown",
      "metadata": {
        "id": "view-in-github",
        "colab_type": "text"
      },
      "source": [
        "<a href=\"https://colab.research.google.com/github/snares27/Calculator/blob/main/%5BS25_ML%5D_Arrays_and_numpy.ipynb\" target=\"_parent\"><img src=\"https://colab.research.google.com/assets/colab-badge.svg\" alt=\"Open In Colab\"/></a>"
      ]
    },
    {
      "cell_type": "markdown",
      "source": [
        "# **CS 5361/6361 Machine Learning - Arrays and Numpy**\n",
        "\n",
        "**Author:** Olac Fuentes<br>\n",
        "Computer Science Department<br>\n",
        "University of Texas at El Paso<br>\n",
        "**Last modified:** 1/30/2025<br>"
      ],
      "metadata": {
        "id": "38ytHVtL8Oe3"
      }
    },
    {
      "cell_type": "markdown",
      "metadata": {
        "id": "SAR-RP97t8ap"
      },
      "source": [
        "# **Array basics**"
      ]
    },
    {
      "cell_type": "markdown",
      "metadata": {
        "id": "xxW5owwzuBdW"
      },
      "source": [
        "Arrays are not part of the Python language. We will use them through the numpy library.\n",
        "Arrays are similar to lists, but all elements must be of the same type.\n"
      ]
    },
    {
      "cell_type": "markdown",
      "metadata": {
        "id": "OFLv81Rcv-4G"
      },
      "source": [
        "The numpy library provides implementations of many useful operations on arrays of any dimensionality.  "
      ]
    },
    {
      "cell_type": "markdown",
      "metadata": {
        "id": "YnEBaPW8un1s"
      },
      "source": [
        "The following statement imports the library and declares np as short for numpy. We can access functions and modules in the numpy library by using the dot notation."
      ]
    },
    {
      "cell_type": "code",
      "metadata": {
        "id": "KN_loq20t1l9"
      },
      "source": [
        "import numpy as np"
      ],
      "execution_count": null,
      "outputs": []
    },
    {
      "cell_type": "markdown",
      "metadata": {
        "id": "mP4lN8l3v2C-"
      },
      "source": [
        "Arrays can be created in several ways."
      ]
    },
    {
      "cell_type": "markdown",
      "source": [
        "## Arrays from lists"
      ],
      "metadata": {
        "id": "exNqxj_9Fxhy"
      }
    },
    {
      "cell_type": "markdown",
      "metadata": {
        "id": "JlJmKRMzwbld"
      },
      "source": [
        "We can convert a list to a 1-D array."
      ]
    },
    {
      "cell_type": "code",
      "metadata": {
        "id": "zG7GOtb4woBd"
      },
      "source": [
        "a = np.array([1,2,3,4])\n",
        "print(a)"
      ],
      "execution_count": null,
      "outputs": []
    },
    {
      "cell_type": "markdown",
      "metadata": {
        "id": "gk6eUXDZubwF"
      },
      "source": [
        "We can convert a list of lists to a 2-D array (or a list of lists of lists to a 3D array, and so on)."
      ]
    },
    {
      "cell_type": "code",
      "metadata": {
        "id": "B94ERMmsw-4i"
      },
      "source": [
        "a = np.array([[1,2,3,4],[5,6,7,8]])\n",
        "print(a)"
      ],
      "execution_count": null,
      "outputs": []
    },
    {
      "cell_type": "markdown",
      "metadata": {
        "id": "26taW1s8xQfD"
      },
      "source": [
        "The array type is inferred from the data provided"
      ]
    },
    {
      "cell_type": "code",
      "metadata": {
        "id": "uEpA1FA7xbOr"
      },
      "source": [
        "a = np.array([[1.5,2,3,4],[5,6,7,8]])\n",
        "print(a)"
      ],
      "execution_count": null,
      "outputs": []
    },
    {
      "cell_type": "markdown",
      "metadata": {
        "id": "opLOpMOvxFQ6"
      },
      "source": [
        "Unlike Java, numpy does not lallow jagged arrays."
      ]
    },
    {
      "cell_type": "code",
      "metadata": {
        "id": "7Tj1MUk0xL0r"
      },
      "source": [
        "a = np.array([[1,2,3,4],[5,6,7]])\n",
        "print(a)"
      ],
      "execution_count": null,
      "outputs": []
    },
    {
      "cell_type": "markdown",
      "source": [
        "## Shape and type"
      ],
      "metadata": {
        "id": "2JVdpbCuF4EN"
      }
    },
    {
      "cell_type": "markdown",
      "source": [
        "In Java, arrays are one dimensional.  2D arrays are implemented as arrays of arrays. We use that attribute *length* to determine the size (or number of elements) of an array.\n",
        "\n",
        "In Numpy, arrays can have any number of dimensions. For array *A*, the attribute *A.shape* is a tuple  (an immutable list) that contains the number of elements in each of the dimensions of A.  *len(A.shape)* contains the number of dimensions of A.\n",
        "\n",
        "For array A, the attribute A.dtype contains the type of the elements of A."
      ],
      "metadata": {
        "id": "jw3WQLvirxhQ"
      }
    },
    {
      "cell_type": "markdown",
      "source": [
        "For example, in the code below, array *a* has two dimensions, the size of the first dimension is 3 (the number of rows) and the size of the second dimension is 4 (the number of columns). Thus we say that *a* is a 3-by-4 array."
      ],
      "metadata": {
        "id": "2gfgXGpcraBo"
      }
    },
    {
      "cell_type": "code",
      "metadata": {
        "id": "W3w2rdUc9wmZ"
      },
      "source": [
        "a = np.array([[1,2,3,4],[5,6,7,8],[9,10,11,12]])\n",
        "print(a)\n",
        "print(a.shape)\n",
        "print(len(a.shape))\n",
        "print(a.dtype)"
      ],
      "execution_count": null,
      "outputs": []
    },
    {
      "cell_type": "markdown",
      "source": [
        "## zeros, ones, full"
      ],
      "metadata": {
        "id": "1vdF4y9MF9WV"
      }
    },
    {
      "cell_type": "markdown",
      "metadata": {
        "id": "i1QRK33-xhdK"
      },
      "source": [
        "The numpy function *zeros* (see https://numpy.org/doc/stable/reference/generated/numpy.zeros.html) creates an array of a given shape and type whose elements are all equal to zero. The parameter shape may be a tuple or an integer. If shape is an integer, a 1D array is created. By default, the data type is float.\n"
      ]
    },
    {
      "cell_type": "code",
      "metadata": {
        "id": "zxTa9B1ox4ou"
      },
      "source": [
        "a = np.zeros(5) # Create 1-D array\n",
        "print(a)\n",
        "print(a.shape)\n",
        "print(a.dtype)"
      ],
      "execution_count": null,
      "outputs": []
    },
    {
      "cell_type": "code",
      "source": [
        "a = np.zeros(5,int) # Create 1-D array\n",
        "print(a)\n",
        "print(a.shape)\n",
        "print(a.dtype)"
      ],
      "metadata": {
        "id": "1aRfqpn_wzEm"
      },
      "execution_count": null,
      "outputs": []
    },
    {
      "cell_type": "code",
      "source": [
        "a = np.zeros(5,float) # Create 1-D array\n",
        "print(a)\n",
        "print(a.shape)\n",
        "print(a.dtype)"
      ],
      "metadata": {
        "id": "3fTMgMZcw6TF"
      },
      "execution_count": null,
      "outputs": []
    },
    {
      "cell_type": "code",
      "metadata": {
        "id": "e6YFA4o1yCTR"
      },
      "source": [
        "a = np.zeros((5,3),int) # Create 2-D array with 5 rows and 3 colummns\n",
        "print(a)\n",
        "print(a.shape)\n",
        "print(a.dtype)"
      ],
      "execution_count": null,
      "outputs": []
    },
    {
      "cell_type": "code",
      "source": [
        "a = np.zeros((5,3)) # Create 2-D array with 5 rows and 3 colummns\n",
        "print(a)\n",
        "print(a.shape)\n",
        "print(a.dtype)"
      ],
      "metadata": {
        "id": "Y4woWqQ0xLO4"
      },
      "execution_count": null,
      "outputs": []
    },
    {
      "cell_type": "markdown",
      "source": [
        "The numpy function *ones* behaves the same as zeros, but it initializes every element to 1."
      ],
      "metadata": {
        "id": "r_xUj2O5xVsF"
      }
    },
    {
      "cell_type": "code",
      "metadata": {
        "id": "IjVd6pzVyKRI"
      },
      "source": [
        "a = np.ones((2,3)) # Create 2-D array with 2 rows and 3 colummns\n",
        "print(a)\n",
        "print(a.shape)\n",
        "print(a.dtype)"
      ],
      "execution_count": null,
      "outputs": []
    },
    {
      "cell_type": "markdown",
      "source": [
        "The numpy function full (https://numpy.org/doc/stable/reference/generated/numpy.full.html) is similar to zeros, but it allows to specify a single value to assign to every element of the array."
      ],
      "metadata": {
        "id": "Y5tSHyTwyOJI"
      }
    },
    {
      "cell_type": "code",
      "source": [
        "a = np.full((4,6),2023)\n",
        "print(a)\n",
        "print(a.shape)\n",
        "print(a.dtype)"
      ],
      "metadata": {
        "id": "9CQug6WQykzb"
      },
      "execution_count": null,
      "outputs": []
    },
    {
      "cell_type": "code",
      "source": [
        "a = np.full((4,6), np.pi)\n",
        "print(a)\n",
        "print(a.shape)\n",
        "print(a.dtype)"
      ],
      "metadata": {
        "id": "LaYPVB4S0Fne"
      },
      "execution_count": null,
      "outputs": []
    },
    {
      "cell_type": "markdown",
      "source": [
        "## arange and reshape"
      ],
      "metadata": {
        "id": "ssRCxsZ5GO66"
      }
    },
    {
      "cell_type": "markdown",
      "metadata": {
        "id": "ZN-MDfKXydZ5"
      },
      "source": [
        "To create sequences of numbers, NumPy provides the arange function which is analogous to the Python built-in range, but returns an array."
      ]
    },
    {
      "cell_type": "code",
      "metadata": {
        "id": "UpOxj4fFyhgD"
      },
      "source": [
        "a= np.arange(16)\n",
        "print(a)\n",
        "print(a.shape)\n",
        "print(a.dtype)"
      ],
      "execution_count": null,
      "outputs": []
    },
    {
      "cell_type": "code",
      "metadata": {
        "id": "OTPxhy0_yl-X"
      },
      "source": [
        "a= np.arange(20,100,10)\n",
        "print(a)\n",
        "print(a.shape)\n",
        "print(a.dtype)"
      ],
      "execution_count": null,
      "outputs": []
    },
    {
      "cell_type": "markdown",
      "metadata": {
        "id": "TS1wY6P5y5g_"
      },
      "source": [
        "The reshape operation can be used to change the dimensionality of an array (but the number of elements cannot change)."
      ]
    },
    {
      "cell_type": "code",
      "metadata": {
        "id": "HmxFl3b2zEu_"
      },
      "source": [
        "a= np.arange(16)\n",
        "print(a)\n",
        "b = a.reshape(4,4)\n",
        "print(b)\n",
        "c = b.reshape(16)\n",
        "print(c)"
      ],
      "execution_count": null,
      "outputs": []
    },
    {
      "cell_type": "code",
      "metadata": {
        "id": "tllkQahQzL-v"
      },
      "source": [
        "a= np.arange(16)\n",
        "b = a.reshape(4,5)\n",
        "print(b)"
      ],
      "execution_count": null,
      "outputs": []
    },
    {
      "cell_type": "markdown",
      "metadata": {
        "id": "Ni1aUyr4zYCX"
      },
      "source": [
        "reshape returns a copy of the array, without modifying the original array.\n"
      ]
    },
    {
      "cell_type": "code",
      "metadata": {
        "id": "jy4vora9zf1_"
      },
      "source": [
        "a= np.arange(16)\n",
        "a.reshape(4,4)\n",
        "print(a)"
      ],
      "execution_count": null,
      "outputs": []
    },
    {
      "cell_type": "code",
      "source": [
        "a= np.arange(16)\n",
        "a =a.reshape(4,2,2)\n",
        "print(a)"
      ],
      "metadata": {
        "id": "-g1d-g1WuGUw"
      },
      "execution_count": null,
      "outputs": []
    },
    {
      "cell_type": "markdown",
      "metadata": {
        "id": "7DLb5RBDasPF"
      },
      "source": [
        "a.shape is a tuple (an immutable list) that contains the size of each of the dimensions of array a. len(a.shape) contains the number of dimensions of a."
      ]
    },
    {
      "cell_type": "code",
      "source": [
        "a= np.arange(16)\n",
        "print(a)\n",
        "print(a.shape)\n",
        "print(len(a.shape))\n",
        "b = a.reshape(1,16)\n",
        "print(b)"
      ],
      "metadata": {
        "id": "5rV8-297kpim"
      },
      "execution_count": null,
      "outputs": []
    },
    {
      "cell_type": "code",
      "source": [
        "print(a[3])\n",
        "print(b[0,3])\n",
        "print(b[0][3])"
      ],
      "metadata": {
        "id": "3tVf0tomk9ng"
      },
      "execution_count": null,
      "outputs": []
    },
    {
      "cell_type": "code",
      "metadata": {
        "id": "RMuvbnjOat19"
      },
      "source": [
        "a= np.arange(16)\n",
        "print(a)\n",
        "print(a.shape)\n",
        "print(len(a.shape))\n",
        "b = a.reshape(4,4)\n",
        "print(b)\n",
        "print(b.shape)\n",
        "print(len(b.shape))\n",
        "c = a.reshape(2,2,4,1)\n",
        "print(c)\n",
        "print(c.shape)\n",
        "print(len(c.shape))"
      ],
      "execution_count": null,
      "outputs": []
    },
    {
      "cell_type": "code",
      "source": [
        "a= np.arange(16)\n",
        "print(a)\n",
        "a.reshape(4,4)\n",
        "print(a)"
      ],
      "metadata": {
        "id": "B_QxKN2E0G3D"
      },
      "execution_count": null,
      "outputs": []
    },
    {
      "cell_type": "markdown",
      "metadata": {
        "id": "D5A0KLm60OH2"
      },
      "source": [
        "Arithmetic operators on arrays apply elementwise. There's no need to write for loops to perform array operations!!!"
      ]
    },
    {
      "cell_type": "code",
      "metadata": {
        "id": "OA6yITiV0P0e"
      },
      "source": [
        "a= np.arange(16).reshape(4,4)\n",
        "print(a)\n",
        "b = a + 5\n",
        "print(b)\n",
        "c = a**2\n",
        "print(c)\n",
        "d = np.sin(a)\n",
        "print(d)\n",
        "print(a+b)\n",
        "print(a*c)"
      ],
      "execution_count": null,
      "outputs": []
    },
    {
      "cell_type": "markdown",
      "metadata": {
        "id": "kExzNadI1jTO"
      },
      "source": [
        "Integer indexing works the same way as in Java, but indices are separated by commas."
      ]
    },
    {
      "cell_type": "code",
      "source": [
        "a"
      ],
      "metadata": {
        "id": "nTa1buPHu94w"
      },
      "execution_count": null,
      "outputs": []
    },
    {
      "cell_type": "code",
      "metadata": {
        "id": "rV_E5OnT00vH",
        "collapsed": true
      },
      "source": [
        "print(a[2,3])\n",
        "print(a[0,2])"
      ],
      "execution_count": null,
      "outputs": []
    },
    {
      "cell_type": "markdown",
      "metadata": {
        "id": "v6KWixes13A9"
      },
      "source": [
        "As with lists, negative indices (counting from the end) are allowed"
      ]
    },
    {
      "cell_type": "code",
      "metadata": {
        "id": "h02CTS2D19rk"
      },
      "source": [
        "print(a[0,-1])\n",
        "print(a[-1,0])"
      ],
      "execution_count": null,
      "outputs": []
    },
    {
      "cell_type": "markdown",
      "metadata": {
        "id": "Ge-SNtNv2SBt"
      },
      "source": [
        "Slicing works the same ways as with lists, with one slice per dimension.\n",
        "\n",
        "If A is a 1D array, *A[start:end:step]* is the subarray (or slice) of *A* starting at position *start*, ending at position *end*, with increments of size *step*.\n",
        "\n",
        "If *start* is ommited, it defaults to 0.\n",
        "\n",
        "If *end* is ommited, it defaults to the shape of A in that dimension.\n",
        "\n",
        "If *step* is ommited, it defaults to 1."
      ]
    },
    {
      "cell_type": "markdown",
      "source": [
        "A = np.arange(0, 20, 2)\n",
        "print(A)  # Print all elments of A"
      ],
      "metadata": {
        "id": "KcZeWifE-KpM"
      }
    },
    {
      "cell_type": "code",
      "source": [
        "A = np.arange(0, 20, 2)\n",
        "print(A)  # Print all elements of A"
      ],
      "metadata": {
        "id": "uYCHLUBF-wrw"
      },
      "execution_count": null,
      "outputs": []
    },
    {
      "cell_type": "code",
      "source": [
        "print(A[:])  # Print all elements of A - start = 0, end = 10, step = 1"
      ],
      "metadata": {
        "id": "oLVYigk_-2xN"
      },
      "execution_count": null,
      "outputs": []
    },
    {
      "cell_type": "code",
      "source": [
        "print(A[::])  # Print all elements of  - start = 0, end = 10, step = 1"
      ],
      "metadata": {
        "id": "VtTKtgiQ--qu"
      },
      "execution_count": null,
      "outputs": []
    },
    {
      "cell_type": "code",
      "source": [
        "print(A[1:])  # - start = 1, end = 10, step = 1"
      ],
      "metadata": {
        "id": "wRCO10o8_Dcm"
      },
      "execution_count": null,
      "outputs": []
    },
    {
      "cell_type": "code",
      "source": [
        "print(A[:4])  # - start = 0, end = 4, step = 1"
      ],
      "metadata": {
        "id": "XMHVOziD_g3O"
      },
      "execution_count": null,
      "outputs": []
    },
    {
      "cell_type": "code",
      "source": [
        "print(A[1:6])  # - start = 1, end = 6, step = 1"
      ],
      "metadata": {
        "id": "12Nq2X6M_VnO"
      },
      "execution_count": null,
      "outputs": []
    },
    {
      "cell_type": "code",
      "source": [
        "print(A[1:6:2])  # - start = 1, end = 6, step = 2"
      ],
      "metadata": {
        "id": "3hjRYdGY_Y8E"
      },
      "execution_count": null,
      "outputs": []
    },
    {
      "cell_type": "code",
      "source": [
        "A[::-1]"
      ],
      "metadata": {
        "id": "bQ6_ge6uwmWJ"
      },
      "execution_count": null,
      "outputs": []
    },
    {
      "cell_type": "markdown",
      "source": [
        "Some examples using 2D arrays"
      ],
      "metadata": {
        "id": "a_U3qqIr_54u"
      }
    },
    {
      "cell_type": "code",
      "source": [
        "a = np.arange(16).reshape(4,4)\n",
        "print(a)"
      ],
      "metadata": {
        "id": "8N3jbJkfw6fg"
      },
      "execution_count": null,
      "outputs": []
    },
    {
      "cell_type": "code",
      "metadata": {
        "id": "aOS1NrPD2ReM"
      },
      "source": [
        "print(a[:2,1:])  # Select rows 0 and 1 and columns 1,2, and 3"
      ],
      "execution_count": null,
      "outputs": []
    },
    {
      "cell_type": "code",
      "metadata": {
        "id": "QtvyF0GG2ogU"
      },
      "source": [
        "print(a[::2,1::2])  # Select rows 0 and 2 and columns 1 and 3"
      ],
      "execution_count": null,
      "outputs": []
    },
    {
      "cell_type": "code",
      "metadata": {
        "id": "CPryVII52-MM"
      },
      "source": [
        "print(a[:,::-1])  # Reverse the order of columns"
      ],
      "execution_count": null,
      "outputs": []
    },
    {
      "cell_type": "code",
      "metadata": {
        "id": "hQ2Sw7sv2z0V"
      },
      "source": [
        "print(a[::-1,:])  # Reverse the order of rows"
      ],
      "execution_count": null,
      "outputs": []
    },
    {
      "cell_type": "code",
      "metadata": {
        "id": "zUsHKURK3JF8"
      },
      "source": [
        "print(a[::-1])  # Reverse the order of rows, trailing ':' may be ommited"
      ],
      "execution_count": null,
      "outputs": []
    },
    {
      "cell_type": "code",
      "source": [
        "print(a)"
      ],
      "metadata": {
        "id": "WnE8eP57tVyR"
      },
      "execution_count": null,
      "outputs": []
    },
    {
      "cell_type": "code",
      "source": [
        "print(a[2:4,1:2])"
      ],
      "metadata": {
        "id": "-W4gpVIHpmp6"
      },
      "execution_count": null,
      "outputs": []
    },
    {
      "cell_type": "markdown",
      "metadata": {
        "id": "Jo8Jf0Zg3UOV"
      },
      "source": [
        "We can use lists of the same length as indices; the result is a 1D array."
      ]
    },
    {
      "cell_type": "code",
      "source": [
        "np.arange(4)"
      ],
      "metadata": {
        "id": "of6ePAyjxVaA"
      },
      "execution_count": null,
      "outputs": []
    },
    {
      "cell_type": "code",
      "source": [
        "a = np.random.randint(0,10,size=(4,5))\n",
        "print(a)"
      ],
      "metadata": {
        "id": "NAMszdpTxzZA"
      },
      "execution_count": null,
      "outputs": []
    },
    {
      "cell_type": "code",
      "source": [
        "def diagonal(x):\n",
        "  return x[ np.arange(x.shape[0]), np.arange(x.shape[1])]\n",
        "\n",
        "print(diagonal(a))"
      ],
      "metadata": {
        "id": "tZUFbDngwAex"
      },
      "execution_count": null,
      "outputs": []
    },
    {
      "cell_type": "code",
      "metadata": {
        "id": "TcbHkELY3Zkc"
      },
      "source": [
        "c = a[[2,3,1],[1,0,3]] # Returns 1-D array containing [a[2,1], a[3,0], a[1,3]]\n",
        "print(c)"
      ],
      "execution_count": null,
      "outputs": []
    },
    {
      "cell_type": "code",
      "source": [
        "c = a[[2,3,1],:]\n",
        "print(c)"
      ],
      "metadata": {
        "id": "fU2w4x6Yp8Ws"
      },
      "execution_count": null,
      "outputs": []
    },
    {
      "cell_type": "code",
      "source": [
        "a"
      ],
      "metadata": {
        "id": "mCF4J1MCqKw0"
      },
      "execution_count": null,
      "outputs": []
    },
    {
      "cell_type": "code",
      "source": [
        "a[2:3,:]"
      ],
      "metadata": {
        "id": "ipQxOh2DxnyI"
      },
      "execution_count": null,
      "outputs": []
    },
    {
      "cell_type": "code",
      "source": [
        "a[3:3,:]"
      ],
      "metadata": {
        "id": "jykO-rMS3byu"
      },
      "execution_count": null,
      "outputs": []
    },
    {
      "cell_type": "markdown",
      "source": [
        "We can also use lists in one dimension and slices or integers in the other."
      ],
      "metadata": {
        "id": "9-TVOJwQAmrP"
      }
    },
    {
      "cell_type": "code",
      "source": [
        "print(a)"
      ],
      "metadata": {
        "id": "n5-sukG-A1D6"
      },
      "execution_count": null,
      "outputs": []
    },
    {
      "cell_type": "code",
      "source": [
        "a[:2,[2,0,3,0,0]] # Rows 0 and 1, columns 1,2 and 3"
      ],
      "metadata": {
        "id": "48mgOdosAGR2"
      },
      "execution_count": null,
      "outputs": []
    },
    {
      "cell_type": "code",
      "source": [
        "a[2,[1,2,3]] # Row 2, columns 1,2 and 3 (this is a 1D array, since we are passing an index (not a slice) in the first dimension)."
      ],
      "metadata": {
        "id": "UU8LqMDbA9vf"
      },
      "execution_count": null,
      "outputs": []
    },
    {
      "cell_type": "code",
      "source": [
        "a[2:3,[1,2,3]] # Row 2, columns 1,2 and 3 (this is a 2D array, since we are passing a slice in the first dimension, even thou it contains a single element."
      ],
      "metadata": {
        "id": "BvDbSEyvBM1E"
      },
      "execution_count": null,
      "outputs": []
    },
    {
      "cell_type": "code",
      "source": [
        "X = np.random.randint(0,10,size=(10,5))\n",
        "print(X)"
      ],
      "metadata": {
        "id": "LWXehVskycD8"
      },
      "execution_count": null,
      "outputs": []
    },
    {
      "cell_type": "code",
      "source": [
        "def select_features(X,features):\n",
        "  return X[:,features]\n",
        "\n",
        "print(select_features(X,[4,0,4]))"
      ],
      "metadata": {
        "id": "86s0m49Cvh_g"
      },
      "execution_count": null,
      "outputs": []
    },
    {
      "cell_type": "code",
      "source": [
        "def select_instances(X,instances):\n",
        "  return X[instances]\n",
        "\n",
        "print(select_instances(X,[3,5]))"
      ],
      "metadata": {
        "id": "w26VBJiUzLtb"
      },
      "execution_count": null,
      "outputs": []
    },
    {
      "cell_type": "markdown",
      "metadata": {
        "id": "vB02YnA17B2t"
      },
      "source": [
        "We can assign values to array elements and slices"
      ]
    },
    {
      "cell_type": "code",
      "metadata": {
        "id": "2aQdIUDe7hEO"
      },
      "source": [
        "a= np.arange(16).reshape(4,4)\n",
        "print(a)\n",
        "a[2,3] = -100\n",
        "print(a)"
      ],
      "execution_count": null,
      "outputs": []
    },
    {
      "cell_type": "code",
      "metadata": {
        "id": "5lK7umR172OC"
      },
      "source": [
        "a= np.arange(16).reshape(4,4)\n",
        "print(a)\n",
        "a[:2,1:] = -100\n",
        "print(a)"
      ],
      "execution_count": null,
      "outputs": []
    },
    {
      "cell_type": "markdown",
      "metadata": {
        "id": "UbFXERWS-Iex"
      },
      "source": [
        "You can perform elementwise operations on array slices if they are the same size"
      ]
    },
    {
      "cell_type": "code",
      "metadata": {
        "id": "VW5x_E8h-e6K"
      },
      "source": [
        "a= np.arange(16).reshape(4,4)\n",
        "print(a)\n",
        "b = np.arange(6).reshape(2,3)\n",
        "print(b)\n",
        "a[:2,1:] = a[:2,1:] - b\n",
        "print(a)"
      ],
      "execution_count": null,
      "outputs": []
    },
    {
      "cell_type": "markdown",
      "metadata": {
        "id": "SNMUENZJ_e8r"
      },
      "source": [
        "Warning - arrays are passed by reference; array assignments are shallow"
      ]
    },
    {
      "cell_type": "code",
      "metadata": {
        "id": "4N0Qhuzt_ngj"
      },
      "source": [
        "a= np.arange(16).reshape(4,4)\n",
        "print(a)\n",
        "b = a\n",
        "b[0,0] = 2302\n",
        "print(a)"
      ],
      "execution_count": null,
      "outputs": []
    },
    {
      "cell_type": "markdown",
      "metadata": {
        "id": "FFgzt-HgACYS"
      },
      "source": [
        "This will make a deep copy of a"
      ]
    },
    {
      "cell_type": "code",
      "metadata": {
        "id": "q8brWVR3_4Rb"
      },
      "source": [
        "a= np.arange(16).reshape(4,4)\n",
        "print(a)\n",
        "b = np.copy(a)\n",
        "b[0,0] = 2302\n",
        "print(a)\n",
        "print(b)"
      ],
      "execution_count": null,
      "outputs": []
    },
    {
      "cell_type": "markdown",
      "source": [
        "Number of times 100 appears in a\n",
        "a) 0\n",
        "b) 1\n",
        "c) 4"
      ],
      "metadata": {
        "id": "aLaOOt2t5d3l"
      }
    },
    {
      "cell_type": "code",
      "source": [
        "a= np.arange(16)\n",
        "b = a.reshape(4,4)\n",
        "b[0] = 100\n",
        "print(a)"
      ],
      "metadata": {
        "id": "Mb2jKwFtzUMQ"
      },
      "execution_count": null,
      "outputs": []
    },
    {
      "cell_type": "code",
      "source": [
        "b[:,1]=200"
      ],
      "metadata": {
        "id": "IDycsZIi6NW0"
      },
      "execution_count": null,
      "outputs": []
    },
    {
      "cell_type": "code",
      "source": [
        "print(b)"
      ],
      "metadata": {
        "id": "gDxfLs-Y6AoO"
      },
      "execution_count": null,
      "outputs": []
    },
    {
      "cell_type": "code",
      "source": [
        "print(a)"
      ],
      "metadata": {
        "id": "kIpBspgc6XBz"
      },
      "execution_count": null,
      "outputs": []
    },
    {
      "cell_type": "markdown",
      "metadata": {
        "id": "17jt9dOZAUIZ"
      },
      "source": [
        "Numpy provides LOTS of functions that implement mathematical operations on arrays. The functions operate elementwise on an array, producing an array as output. See\n",
        "https://numpy.org/doc/stable/reference/routines.math.html"
      ]
    },
    {
      "cell_type": "markdown",
      "metadata": {
        "id": "OTcg3FcNqOLL"
      },
      "source": [
        "Commonly used built-in functions:\n"
      ]
    },
    {
      "cell_type": "code",
      "metadata": {
        "id": "4Vdbi3p5qS_S"
      },
      "source": [
        "a = np.array([3, 7, 1, 5, 8])\n",
        "b = np.array([4, 7, 1, 3, 6])\n",
        "c = np.array([[3, 4, 9, 1], [8, 1, 2, 4], [7, 7, 6, 7]])\n",
        "d = np.array([[7, 8, 1, 6], [3, 6, 6, 4], [4, 9, 4, 3]])\n",
        "print(f'{a = }')\n",
        "print(f'{b = }')\n",
        "print(f'{c = }')\n",
        "print(f'{d = }')"
      ],
      "execution_count": null,
      "outputs": []
    },
    {
      "cell_type": "code",
      "source": [
        "print(np.sum(a))"
      ],
      "metadata": {
        "id": "pvUTgY58zBiq"
      },
      "execution_count": null,
      "outputs": []
    },
    {
      "cell_type": "code",
      "source": [
        "print(np.sum(c))"
      ],
      "metadata": {
        "id": "pILqqpvh1VwQ"
      },
      "execution_count": null,
      "outputs": []
    },
    {
      "cell_type": "code",
      "source": [
        "print(a+b)"
      ],
      "metadata": {
        "id": "z5YvqITB0oco"
      },
      "execution_count": null,
      "outputs": []
    },
    {
      "cell_type": "code",
      "source": [
        "print(c+d)"
      ],
      "metadata": {
        "id": "x_yuVY5z1KVt"
      },
      "execution_count": null,
      "outputs": []
    },
    {
      "cell_type": "code",
      "source": [
        "print(np.min(a))"
      ],
      "metadata": {
        "id": "SbGErwVL1bDp"
      },
      "execution_count": null,
      "outputs": []
    },
    {
      "cell_type": "code",
      "metadata": {
        "id": "4FJIOXE5qhdA"
      },
      "source": [
        "print(np.min(c))"
      ],
      "execution_count": null,
      "outputs": []
    },
    {
      "cell_type": "code",
      "metadata": {
        "id": "FE7Dyxe3qvd1"
      },
      "source": [
        "print(np.max(a))"
      ],
      "execution_count": null,
      "outputs": []
    },
    {
      "cell_type": "code",
      "metadata": {
        "id": "qp5Ooa8aqzpU"
      },
      "source": [
        "print(np.mean(a))"
      ],
      "execution_count": null,
      "outputs": []
    },
    {
      "cell_type": "code",
      "source": [
        "print(np.sort(a))"
      ],
      "metadata": {
        "id": "U6X4hUYQ0yxH"
      },
      "execution_count": null,
      "outputs": []
    },
    {
      "cell_type": "markdown",
      "source": [
        "Notice that the previous operation returns a sorted version of $a$, without modifying $a$."
      ],
      "metadata": {
        "id": "ok0-riHK079L"
      }
    },
    {
      "cell_type": "code",
      "source": [
        "print(a)"
      ],
      "metadata": {
        "id": "nZlCN7PN02kw"
      },
      "execution_count": null,
      "outputs": []
    },
    {
      "cell_type": "markdown",
      "source": [
        "The operations argmax and argmin return the argument (or index) of the maximum and minimum elements in the array, respectively."
      ],
      "metadata": {
        "id": "5dkySG1Q2FI1"
      }
    },
    {
      "cell_type": "code",
      "metadata": {
        "id": "uDXRlorirDWY"
      },
      "source": [
        "print(np.argmin(a)) # Returns the index of the minimum element in a"
      ],
      "execution_count": null,
      "outputs": []
    },
    {
      "cell_type": "code",
      "metadata": {
        "id": "KDNG0sVHq3xl"
      },
      "source": [
        "print(np.argmax(a)) # Returns the index of the maximum element in a"
      ],
      "execution_count": null,
      "outputs": []
    },
    {
      "cell_type": "code",
      "source": [
        "print(c)"
      ],
      "metadata": {
        "id": "-zf1iLM-2kpT"
      },
      "execution_count": null,
      "outputs": []
    },
    {
      "cell_type": "code",
      "source": [
        "print(np.argmin(c,axis=0))"
      ],
      "metadata": {
        "id": "cfNLgymI2fYH"
      },
      "execution_count": null,
      "outputs": []
    },
    {
      "cell_type": "markdown",
      "source": [
        "Similarly, argsort returns an array of indices, where the first element is the index of the smallest element in the array, the second element is the index of the second smallest, and so on."
      ],
      "metadata": {
        "id": "XKZeVJaz2g-K"
      }
    },
    {
      "cell_type": "code",
      "source": [
        "print(np.argsort(a))"
      ],
      "metadata": {
        "id": "SGF7n4977pUO"
      },
      "execution_count": null,
      "outputs": []
    },
    {
      "cell_type": "markdown",
      "source": [
        "With multidimensional arrays, we can perform operations along specific axes (or dimensions) in the array."
      ],
      "metadata": {
        "id": "rsYQVD1Y20eR"
      }
    },
    {
      "cell_type": "code",
      "source": [
        "print(c)"
      ],
      "metadata": {
        "id": "vY_BUCbs0NZo"
      },
      "execution_count": null,
      "outputs": []
    },
    {
      "cell_type": "code",
      "source": [
        "print(np.max(c))  # Global maximum of c"
      ],
      "metadata": {
        "id": "0rHWCtMvAz66"
      },
      "execution_count": null,
      "outputs": []
    },
    {
      "cell_type": "code",
      "source": [
        "print(np.max(c,axis=0)) # Maxima of every column in c; this is a 1D array of shape (c.shape[1],)"
      ],
      "metadata": {
        "id": "4TmO8sRNA-O8"
      },
      "execution_count": null,
      "outputs": []
    },
    {
      "cell_type": "code",
      "source": [
        "print(c.shape)"
      ],
      "metadata": {
        "id": "2d4CguXJ1w5k"
      },
      "execution_count": null,
      "outputs": []
    },
    {
      "cell_type": "code",
      "source": [
        "print(np.mean(c,axis=0).shape)"
      ],
      "metadata": {
        "id": "C3rI4F3c0oU1"
      },
      "execution_count": null,
      "outputs": []
    },
    {
      "cell_type": "code",
      "source": [
        "print(np.mean(c,axis=1).shape)"
      ],
      "metadata": {
        "id": "KcLhC0s416a8"
      },
      "execution_count": null,
      "outputs": []
    },
    {
      "cell_type": "code",
      "source": [
        "print(np.max(c,axis=1)) # Maxima of every row in c; this is a 1D array of shape (c.shape[0],)"
      ],
      "metadata": {
        "id": "fXwETmL3BOX_"
      },
      "execution_count": null,
      "outputs": []
    },
    {
      "cell_type": "markdown",
      "metadata": {
        "id": "aCVxqc-aAcIR"
      },
      "source": [
        "Since Python is an interpreted language, loops are slow. See the comparative running time of the same operation with and without loops."
      ]
    },
    {
      "cell_type": "code",
      "metadata": {
        "id": "Maehku9EA07v"
      },
      "source": [
        "import time\n",
        "\n",
        "def sum_array_loops(a,b):\n",
        "  c = np.zeros_like(a)\n",
        "  for i in range(a.shape[0]):\n",
        "    for j in range(a.shape[1]):\n",
        "      c[i,j] =  a[i,j] + b[i,j]\n",
        "  return c\n",
        "\n",
        "def sum_array(a,b):\n",
        "  return a + b\n",
        "\n",
        "size = 2000\n",
        "\n",
        "a = np.random.random((size,size))\n",
        "b = np.random.random((size,size))\n",
        "\n",
        "start = time.time()\n",
        "c = sum_array_loops(a,b)\n",
        "elapsed_time1 = time.time() - start\n",
        "print('elapsed time using loops', elapsed_time1,'secs')\n",
        "\n",
        "start = time.time()\n",
        "c = sum_array(a,b)\n",
        "elapsed_time2 = time.time() - start\n",
        "print('elapsed time without loops', elapsed_time2,'secs')\n",
        "\n",
        "print('ratio',elapsed_time1/elapsed_time2)"
      ],
      "execution_count": null,
      "outputs": []
    },
    {
      "cell_type": "code",
      "source": [
        "print(a>5)"
      ],
      "metadata": {
        "id": "MDjhNTXF27in"
      },
      "execution_count": null,
      "outputs": []
    },
    {
      "cell_type": "code",
      "source": [
        "b = np.array([10,20,30,50,60])"
      ],
      "metadata": {
        "id": "cedAmizv3RrP"
      },
      "execution_count": null,
      "outputs": []
    },
    {
      "cell_type": "code",
      "source": [
        "print(b[a>5])"
      ],
      "metadata": {
        "id": "NMX-10Gh3Haf"
      },
      "execution_count": null,
      "outputs": []
    },
    {
      "cell_type": "markdown",
      "metadata": {
        "id": "UnT_XUJjBET2"
      },
      "source": [
        "## **Broadcasting**"
      ]
    },
    {
      "cell_type": "markdown",
      "metadata": {
        "id": "JLMG2paWBIcB"
      },
      "source": [
        "The term broadcasting describes how numpy treats arrays with different shapes during arithmetic operations. Subject to certain constraints, the smaller array is “broadcast” (conceptually, it is replicated, but no actual copies are made)  across the larger array so that they have compatible shapes. Broadcasting provides a means of vectorizing array operations so that looping occurs in C instead of Python."
      ]
    },
    {
      "cell_type": "markdown",
      "metadata": {
        "id": "C5p5uTCaBhL4"
      },
      "source": [
        "Two dimensions are compatible when they are equal, or one of them is 1."
      ]
    },
    {
      "cell_type": "markdown",
      "source": [
        "**NumPy broadcasting  rules:**\n",
        "\n",
        "**Dimension Alignment**\n",
        "\n",
        "Align the shapes of the arrays by adding **leading** dimensions of size 1 to the array with fewer dimensions.\n",
        "For example, if you have a 2D array and a 1D array, the 1D array is treated as a 2D array with a leading dimension of size 1.\n",
        "\n",
        "**Dimension Compatibility**\n",
        "\n",
        "For each dimension, the sizes must either match or one of them must be 1.\n",
        "If a dimension has size 1, it is \"broadcast\" (by duplicating the values) to match the size of the other dimension.\n",
        "\n",
        "**Error Condition**\n",
        "\n",
        "If any dimension has sizes that are not compatible, raise an error."
      ],
      "metadata": {
        "id": "8sINzXCIhovW"
      }
    },
    {
      "cell_type": "markdown",
      "source": [
        "Here are some example operations among compatible arrays:"
      ],
      "metadata": {
        "id": "TTJbYcNRAGiT"
      }
    },
    {
      "cell_type": "code",
      "source": [
        "np.random.seed(0)\n",
        "a = np.random.randint(0,10,size=(4,5))\n",
        "b = np.random.randint(0,10,size=(1,5))\n",
        "c = np.random.randint(0,10,size=(4,1))\n",
        "print('a =',a)\n",
        "print('b =',b)\n",
        "print('c =',c)"
      ],
      "metadata": {
        "id": "TN-oHcXi_bKb"
      },
      "execution_count": null,
      "outputs": []
    },
    {
      "cell_type": "code",
      "source": [
        "print(a+b)"
      ],
      "metadata": {
        "id": "c25VFaWN_1On"
      },
      "execution_count": null,
      "outputs": []
    },
    {
      "cell_type": "code",
      "source": [
        "print(a+c)"
      ],
      "metadata": {
        "id": "atoJ_7Na_6dr"
      },
      "execution_count": null,
      "outputs": []
    },
    {
      "cell_type": "code",
      "source": [
        "print(b+c)"
      ],
      "metadata": {
        "id": "PRSVZX5L_8j2"
      },
      "execution_count": null,
      "outputs": []
    },
    {
      "cell_type": "markdown",
      "source": [
        "## **Boolean arrays as indices**"
      ],
      "metadata": {
        "id": "nErf_NFau1yU"
      }
    },
    {
      "cell_type": "markdown",
      "source": [
        "When we apply a boolean test to an array A, it returns a boolean array with the same shape as A."
      ],
      "metadata": {
        "id": "uNWHkqJku6c5"
      }
    },
    {
      "cell_type": "code",
      "source": [
        "A = np.random.randint(0,10,size = (4,5))\n",
        "print(A)\n",
        "print(A>5)"
      ],
      "metadata": {
        "id": "4Dz3MeH9vGCP"
      },
      "execution_count": null,
      "outputs": []
    },
    {
      "cell_type": "markdown",
      "source": [
        "A boolean array can be used as an index to an array of compatible shape returning a 1D array containing the elements of the array in the position where the value of the index array is True."
      ],
      "metadata": {
        "id": "7sT_fqtnvi7c"
      }
    },
    {
      "cell_type": "code",
      "source": [
        "ind = A>5\n",
        "print(A[ind])"
      ],
      "metadata": {
        "id": "sR9UPZg1vd49"
      },
      "execution_count": null,
      "outputs": []
    },
    {
      "cell_type": "code",
      "source": [
        "A[A>5]"
      ],
      "metadata": {
        "id": "y-F0IAmw6iSU"
      },
      "execution_count": null,
      "outputs": []
    },
    {
      "cell_type": "code",
      "source": [
        "np.random.seed(2)\n",
        "B = np.random.randint(0,10,size = 6)\n",
        "C = np.random.randint(0,10,size = 6)\n",
        "print(B)\n",
        "print(C)"
      ],
      "metadata": {
        "id": "iRFNuWLayjSG"
      },
      "execution_count": null,
      "outputs": []
    },
    {
      "cell_type": "code",
      "source": [
        "print(B>5)"
      ],
      "metadata": {
        "id": "M3Nb2xmQy6xK"
      },
      "execution_count": null,
      "outputs": []
    },
    {
      "cell_type": "code",
      "source": [
        "print(B[B>5])"
      ],
      "metadata": {
        "id": "204IdLvnyts1"
      },
      "execution_count": null,
      "outputs": []
    },
    {
      "cell_type": "code",
      "source": [
        "print(C[B>5])"
      ],
      "metadata": {
        "id": "RtCJW9avy2c3"
      },
      "execution_count": null,
      "outputs": []
    },
    {
      "cell_type": "code",
      "source": [
        "print(B[C==4])"
      ],
      "metadata": {
        "id": "sajjnlBLzUCN"
      },
      "execution_count": null,
      "outputs": []
    },
    {
      "cell_type": "markdown",
      "source": [
        "A boolean array can also be used to access a particular dimension in combination with integer indices and slices"
      ],
      "metadata": {
        "id": "pZTihjz6xMbv"
      }
    },
    {
      "cell_type": "code",
      "source": [
        "print(A[[True,False,True,False]]) # Returns a 2D array containing rows 0 and 2 of A"
      ],
      "metadata": {
        "id": "t9j45OUZwSoC"
      },
      "execution_count": null,
      "outputs": []
    },
    {
      "cell_type": "code",
      "source": [
        "print(A[[True,False,True,False],3]) # Returns a 1D array containing the elements in rows 0 and 2 and column 3 of A"
      ],
      "metadata": {
        "id": "qbxrlV1Mx0IN"
      },
      "execution_count": null,
      "outputs": []
    },
    {
      "cell_type": "code",
      "source": [
        "print(A[[True,False,True,False],:2])"
      ],
      "metadata": {
        "id": "QyynwVEdyDfU"
      },
      "execution_count": null,
      "outputs": []
    },
    {
      "cell_type": "code",
      "source": [
        "print(A[1,[True,False,True,False,True]])"
      ],
      "metadata": {
        "id": "_D4MRGTLyMFW"
      },
      "execution_count": null,
      "outputs": []
    },
    {
      "cell_type": "code",
      "source": [
        "print(A[:,[True,False,True,False,True]]) # Returns a 2D array containing columns 0, 2, and 4 of A."
      ],
      "metadata": {
        "id": "pTSZYJq7xa6F"
      },
      "execution_count": null,
      "outputs": []
    },
    {
      "cell_type": "code",
      "source": [
        "print(A)"
      ],
      "metadata": {
        "id": "hV8BqExZ7XtU"
      },
      "execution_count": null,
      "outputs": []
    },
    {
      "cell_type": "code",
      "source": [
        "print(A)"
      ],
      "metadata": {
        "id": "u8kMQbgU8O8c"
      },
      "execution_count": null,
      "outputs": []
    },
    {
      "cell_type": "code",
      "source": [
        "rows = [True,False,True,False]\n",
        "cols = [True,False,True,False,True]"
      ],
      "metadata": {
        "id": "-PfgWYTS2e4e"
      },
      "execution_count": null,
      "outputs": []
    },
    {
      "cell_type": "code",
      "source": [
        "A[rows,cols]"
      ],
      "metadata": {
        "id": "HjUnjC4l2tQE"
      },
      "execution_count": null,
      "outputs": []
    },
    {
      "cell_type": "code",
      "source": [
        "print(A[rows])"
      ],
      "metadata": {
        "id": "mRCWrS8c81bL"
      },
      "execution_count": null,
      "outputs": []
    },
    {
      "cell_type": "code",
      "source": [
        "A[rows][:,cols]"
      ],
      "metadata": {
        "id": "m7CItkZ08-s-"
      },
      "execution_count": null,
      "outputs": []
    },
    {
      "cell_type": "code",
      "source": [
        "print(A)"
      ],
      "metadata": {
        "id": "9-LAh0kX-Lmg"
      },
      "execution_count": null,
      "outputs": []
    },
    {
      "cell_type": "code",
      "source": [
        "A[2,1]"
      ],
      "metadata": {
        "id": "hGrLgZWy-OlR"
      },
      "execution_count": null,
      "outputs": []
    },
    {
      "cell_type": "code",
      "source": [
        "A[2]"
      ],
      "metadata": {
        "id": "uqdjCk5c-Q3E"
      },
      "execution_count": null,
      "outputs": []
    },
    {
      "cell_type": "code",
      "source": [
        "A[2][1]"
      ],
      "metadata": {
        "id": "m8DuDH2p-Trj"
      },
      "execution_count": null,
      "outputs": []
    }
  ]
}